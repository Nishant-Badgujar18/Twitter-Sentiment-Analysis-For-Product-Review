{
 "cells": [
  {
   "cell_type": "code",
   "execution_count": 1,
   "id": "f3fff564",
   "metadata": {},
   "outputs": [],
   "source": [
    "# !pip install wordcloud"
   ]
  },
  {
   "cell_type": "code",
   "execution_count": 5,
   "id": "cfc9f1c2",
   "metadata": {},
   "outputs": [],
   "source": [
    "# utilities\n",
    "import re\n",
    "import numpy as np\n",
    "import pandas as pd\n",
    "# plotting\n",
    "import seaborn as sns\n",
    "from wordcloud import WordCloud\n",
    "import matplotlib.pyplot as plt\n",
    "# nltk\n",
    "from nltk.stem import WordNetLemmatizer\n",
    "# sklearn\n",
    "from sklearn.svm import LinearSVC\n",
    "from sklearn.naive_bayes import BernoulliNB\n",
    "from sklearn.linear_model import LogisticRegression\n",
    "from sklearn.model_selection import train_test_split\n",
    "from sklearn.feature_extraction.text import TfidfVectorizer\n",
    "from sklearn.metrics import confusion_matrix, classification_report"
   ]
  },
  {
   "cell_type": "code",
   "execution_count": 6,
   "id": "890148c7",
   "metadata": {},
   "outputs": [
    {
     "data": {
      "text/html": [
       "<div>\n",
       "<style scoped>\n",
       "    .dataframe tbody tr th:only-of-type {\n",
       "        vertical-align: middle;\n",
       "    }\n",
       "\n",
       "    .dataframe tbody tr th {\n",
       "        vertical-align: top;\n",
       "    }\n",
       "\n",
       "    .dataframe thead th {\n",
       "        text-align: right;\n",
       "    }\n",
       "</style>\n",
       "<table border=\"1\" class=\"dataframe\">\n",
       "  <thead>\n",
       "    <tr style=\"text-align: right;\">\n",
       "      <th></th>\n",
       "      <th>Index</th>\n",
       "      <th>Date</th>\n",
       "      <th>Target</th>\n",
       "      <th>Id</th>\n",
       "      <th>Tweet</th>\n",
       "    </tr>\n",
       "  </thead>\n",
       "  <tbody>\n",
       "    <tr>\n",
       "      <th>2500</th>\n",
       "      <td>2500</td>\n",
       "      <td>2022-03-06 05:01:55+00:00</td>\n",
       "      <td>0</td>\n",
       "      <td>1.500340e+18</td>\n",
       "      <td>KILLRS Iris falls in to you and gliches and yo...</td>\n",
       "    </tr>\n",
       "    <tr>\n",
       "      <th>1284</th>\n",
       "      <td>1284</td>\n",
       "      <td>2022-03-06 06:50:17+00:00</td>\n",
       "      <td>0</td>\n",
       "      <td>1.500360e+18</td>\n",
       "      <td>Thriving in a man s world There s nothing typi...</td>\n",
       "    </tr>\n",
       "    <tr>\n",
       "      <th>2844</th>\n",
       "      <td>2844</td>\n",
       "      <td>2022-03-06 06:47:09+00:00</td>\n",
       "      <td>4</td>\n",
       "      <td>1.500360e+18</td>\n",
       "      <td>Ev 2 wheelers has done few good things frm the...</td>\n",
       "    </tr>\n",
       "    <tr>\n",
       "      <th>2478</th>\n",
       "      <td>2478</td>\n",
       "      <td>2022-03-06 06:38:10+00:00</td>\n",
       "      <td>0</td>\n",
       "      <td>1.500360e+18</td>\n",
       "      <td>I have purchase undergarments from Goel cloths...</td>\n",
       "    </tr>\n",
       "    <tr>\n",
       "      <th>820</th>\n",
       "      <td>820</td>\n",
       "      <td>2022-03-05 17:08:00+00:00</td>\n",
       "      <td>0</td>\n",
       "      <td>1.500160e+18</td>\n",
       "      <td>What iPhone do you have In IOS14 8 you cannot ...</td>\n",
       "    </tr>\n",
       "  </tbody>\n",
       "</table>\n",
       "</div>"
      ],
      "text/plain": [
       "      Index                       Date  Target            Id  \\\n",
       "2500   2500  2022-03-06 05:01:55+00:00       0  1.500340e+18   \n",
       "1284   1284  2022-03-06 06:50:17+00:00       0  1.500360e+18   \n",
       "2844   2844  2022-03-06 06:47:09+00:00       4  1.500360e+18   \n",
       "2478   2478  2022-03-06 06:38:10+00:00       0  1.500360e+18   \n",
       "820     820  2022-03-05 17:08:00+00:00       0  1.500160e+18   \n",
       "\n",
       "                                                  Tweet  \n",
       "2500  KILLRS Iris falls in to you and gliches and yo...  \n",
       "1284  Thriving in a man s world There s nothing typi...  \n",
       "2844  Ev 2 wheelers has done few good things frm the...  \n",
       "2478  I have purchase undergarments from Goel cloths...  \n",
       "820   What iPhone do you have In IOS14 8 you cannot ...  "
      ]
     },
     "execution_count": 6,
     "metadata": {},
     "output_type": "execute_result"
    }
   ],
   "source": [
    "# Importing the dataset\n",
    "DATASET_COLUMNS=['Index','Date','Target','Id','Tweet']\n",
    "DATASET_ENCODING = \"ISO-8859-1\"\n",
    "df = pd.read_csv('Dataset.csv', encoding=DATASET_ENCODING, names=DATASET_COLUMNS)\n",
    "df.sample(5)"
   ]
  },
  {
   "cell_type": "code",
   "execution_count": 7,
   "id": "04363eb7",
   "metadata": {},
   "outputs": [
    {
     "data": {
      "text/html": [
       "<div>\n",
       "<style scoped>\n",
       "    .dataframe tbody tr th:only-of-type {\n",
       "        vertical-align: middle;\n",
       "    }\n",
       "\n",
       "    .dataframe tbody tr th {\n",
       "        vertical-align: top;\n",
       "    }\n",
       "\n",
       "    .dataframe thead th {\n",
       "        text-align: right;\n",
       "    }\n",
       "</style>\n",
       "<table border=\"1\" class=\"dataframe\">\n",
       "  <thead>\n",
       "    <tr style=\"text-align: right;\">\n",
       "      <th></th>\n",
       "      <th>Index</th>\n",
       "      <th>Date</th>\n",
       "      <th>Target</th>\n",
       "      <th>Id</th>\n",
       "      <th>Tweet</th>\n",
       "    </tr>\n",
       "  </thead>\n",
       "  <tbody>\n",
       "    <tr>\n",
       "      <th>0</th>\n",
       "      <td>0</td>\n",
       "      <td>2022-03-06 06:31:01+00:00</td>\n",
       "      <td>0</td>\n",
       "      <td>1.500360e+18</td>\n",
       "      <td>Debunking the Skin Improvement Myth Product re...</td>\n",
       "    </tr>\n",
       "    <tr>\n",
       "      <th>1</th>\n",
       "      <td>1</td>\n",
       "      <td>2022-03-06 06:18:31+00:00</td>\n",
       "      <td>2</td>\n",
       "      <td>1.500360e+18</td>\n",
       "      <td>We get your concern regarding the offer of the...</td>\n",
       "    </tr>\n",
       "    <tr>\n",
       "      <th>2</th>\n",
       "      <td>2</td>\n",
       "      <td>2022-03-06 06:07:41+00:00</td>\n",
       "      <td>4</td>\n",
       "      <td>1.500350e+18</td>\n",
       "      <td>Thinking about buying Mr Peanut s Gold Series ...</td>\n",
       "    </tr>\n",
       "    <tr>\n",
       "      <th>3</th>\n",
       "      <td>3</td>\n",
       "      <td>2022-03-06 06:07:36+00:00</td>\n",
       "      <td>4</td>\n",
       "      <td>1.500350e+18</td>\n",
       "      <td>Thinking about buying Mr Peanut s Gold Series ...</td>\n",
       "    </tr>\n",
       "    <tr>\n",
       "      <th>4</th>\n",
       "      <td>4</td>\n",
       "      <td>2022-03-06 06:00:08+00:00</td>\n",
       "      <td>0</td>\n",
       "      <td>1.500350e+18</td>\n",
       "      <td>Clinical Pathology Interpretations Fourth Edit...</td>\n",
       "    </tr>\n",
       "  </tbody>\n",
       "</table>\n",
       "</div>"
      ],
      "text/plain": [
       "   Index                       Date  Target            Id  \\\n",
       "0      0  2022-03-06 06:31:01+00:00       0  1.500360e+18   \n",
       "1      1  2022-03-06 06:18:31+00:00       2  1.500360e+18   \n",
       "2      2  2022-03-06 06:07:41+00:00       4  1.500350e+18   \n",
       "3      3  2022-03-06 06:07:36+00:00       4  1.500350e+18   \n",
       "4      4  2022-03-06 06:00:08+00:00       0  1.500350e+18   \n",
       "\n",
       "                                               Tweet  \n",
       "0  Debunking the Skin Improvement Myth Product re...  \n",
       "1  We get your concern regarding the offer of the...  \n",
       "2  Thinking about buying Mr Peanut s Gold Series ...  \n",
       "3  Thinking about buying Mr Peanut s Gold Series ...  \n",
       "4  Clinical Pathology Interpretations Fourth Edit...  "
      ]
     },
     "execution_count": 7,
     "metadata": {},
     "output_type": "execute_result"
    }
   ],
   "source": [
    "df.head()"
   ]
  },
  {
   "cell_type": "code",
   "execution_count": 8,
   "id": "9520ed5e",
   "metadata": {},
   "outputs": [
    {
     "data": {
      "text/plain": [
       "Index(['Index', 'Date', 'Target', 'Id', 'Tweet'], dtype='object')"
      ]
     },
     "execution_count": 8,
     "metadata": {},
     "output_type": "execute_result"
    }
   ],
   "source": [
    "df.columns"
   ]
  },
  {
   "cell_type": "code",
   "execution_count": 9,
   "id": "03db6b0b",
   "metadata": {},
   "outputs": [
    {
     "name": "stdout",
     "output_type": "stream",
     "text": [
      "length of data is 3070\n"
     ]
    }
   ],
   "source": [
    "print('length of data is', len(df))"
   ]
  },
  {
   "cell_type": "code",
   "execution_count": 10,
   "id": "187f75d0",
   "metadata": {},
   "outputs": [
    {
     "data": {
      "text/plain": [
       "(3070, 5)"
      ]
     },
     "execution_count": 10,
     "metadata": {},
     "output_type": "execute_result"
    }
   ],
   "source": [
    "df.shape"
   ]
  },
  {
   "cell_type": "code",
   "execution_count": 11,
   "id": "1eeeae2b",
   "metadata": {},
   "outputs": [
    {
     "name": "stdout",
     "output_type": "stream",
     "text": [
      "<class 'pandas.core.frame.DataFrame'>\n",
      "RangeIndex: 3070 entries, 0 to 3069\n",
      "Data columns (total 5 columns):\n",
      " #   Column  Non-Null Count  Dtype  \n",
      "---  ------  --------------  -----  \n",
      " 0   Index   3070 non-null   int64  \n",
      " 1   Date    3070 non-null   object \n",
      " 2   Target  3070 non-null   int64  \n",
      " 3   Id      3070 non-null   float64\n",
      " 4   Tweet   3069 non-null   object \n",
      "dtypes: float64(1), int64(2), object(2)\n",
      "memory usage: 120.0+ KB\n"
     ]
    }
   ],
   "source": [
    "df.info()"
   ]
  },
  {
   "cell_type": "code",
   "execution_count": 12,
   "id": "5b4aae89",
   "metadata": {},
   "outputs": [
    {
     "data": {
      "text/plain": [
       "Index       int64\n",
       "Date       object\n",
       "Target      int64\n",
       "Id        float64\n",
       "Tweet      object\n",
       "dtype: object"
      ]
     },
     "execution_count": 12,
     "metadata": {},
     "output_type": "execute_result"
    }
   ],
   "source": [
    "df.dtypes"
   ]
  },
  {
   "cell_type": "code",
   "execution_count": 13,
   "id": "708eb1fd",
   "metadata": {},
   "outputs": [
    {
     "data": {
      "text/plain": [
       "1"
      ]
     },
     "execution_count": 13,
     "metadata": {},
     "output_type": "execute_result"
    }
   ],
   "source": [
    "np.sum(df.isnull().any(axis=1))"
   ]
  },
  {
   "cell_type": "code",
   "execution_count": 14,
   "id": "3eded336",
   "metadata": {},
   "outputs": [
    {
     "name": "stdout",
     "output_type": "stream",
     "text": [
      "Count of columns in the data is:   5\n",
      "Count of rows in the data is:   3070\n"
     ]
    }
   ],
   "source": [
    "print('Count of columns in the data is:  ', len(df.columns))\n",
    "print('Count of rows in the data is:  ', len(df))"
   ]
  },
  {
   "cell_type": "code",
   "execution_count": 16,
   "id": "bfaff82c",
   "metadata": {},
   "outputs": [
    {
     "data": {
      "text/plain": [
       "array([0, 2, 4])"
      ]
     },
     "execution_count": 16,
     "metadata": {},
     "output_type": "execute_result"
    }
   ],
   "source": [
    "df['Target'].unique()"
   ]
  },
  {
   "cell_type": "code",
   "execution_count": 17,
   "id": "f991b761",
   "metadata": {},
   "outputs": [
    {
     "data": {
      "text/plain": [
       "3"
      ]
     },
     "execution_count": 17,
     "metadata": {},
     "output_type": "execute_result"
    }
   ],
   "source": [
    "df['Target'].nunique()"
   ]
  },
  {
   "cell_type": "code",
   "execution_count": 18,
   "id": "cd67261d",
   "metadata": {},
   "outputs": [
    {
     "name": "stdout",
     "output_type": "stream",
     "text": [
      "        Index  Date    Id  Tweet\n",
      "Target                          \n",
      "0        1911  1911  1911   1910\n",
      "2         408   408   408    408\n",
      "4         751   751   751    751\n"
     ]
    }
   ],
   "source": [
    "ax = df.groupby('Target').count()\n",
    "print(ax)"
   ]
  },
  {
   "cell_type": "code",
   "execution_count": 20,
   "id": "c98fbebf",
   "metadata": {},
   "outputs": [
    {
     "data": {
      "image/png": "[encoded data removed]",
      "text/plain": [
       "<Figure size 432x288 with 1 Axes>"
      ]
     },
     "metadata": {
      "needs_background": "light"
     },
     "output_type": "display_data"
    }
   ],
   "source": [
    "# Plotting the distribution for dataset.\n",
    "ax = df.groupby('Target').count().plot(kind='bar', title='Distribution of data',legend=False)\n",
    "ax.set_xticklabels(['Negative','Neutral','Positive'], rotation=0)\n",
    "# Storing data in lists.\n",
    "text, sentiment = list(df['Tweet']), list(df['Target'])"
   ]
  },
  {
   "cell_type": "code",
   "execution_count": 21,
   "id": "c8b71246",
   "metadata": {},
   "outputs": [
    {
     "data": {
      "text/plain": [
       "<AxesSubplot:xlabel='Target', ylabel='count'>"
      ]
     },
     "execution_count": 21,
     "metadata": {},
     "output_type": "execute_result"
    },
    {
     "data": {
      "image/png": "[encoded data removed]",
      "text/plain": [
       "<Figure size 432x288 with 1 Axes>"
      ]
     },
     "metadata": {
      "needs_background": "light"
     },
     "output_type": "display_data"
    }
   ],
   "source": [
    "import seaborn as sns\n",
    "sns.countplot(x='Target', data=df)"
   ]
  },
  {
   "cell_type": "code",
   "execution_count": 30,
   "id": "436ede5f",
   "metadata": {},
   "outputs": [
    {
     "data": {
      "image/png": "[encoded data removed]",
      "text/plain": [
       "<Figure size 432x288 with 1 Axes>"
      ]
     },
     "metadata": {},
     "output_type": "display_data"
    }
   ],
   "source": [
    "#we can add explode parameter to pop out the different sections of our pie chart\n",
    "#remove explode parameter for a normal pie chart\n",
    "\n",
    "ax = df.groupby('Target').count()\n",
    "plt.pie(ax['Index'], labels = ['Negative', 'Neutral', 'Positive'])\n",
    "plt.show()"
   ]
  }
 ],
 "metadata": {
  "kernelspec": {
   "display_name": "Python 3 (ipykernel)",
   "language": "python",
   "name": "python3"
  },
  "language_info": {
   "codemirror_mode": {
    "name": "ipython",
    "version": 3
   },
   "file_extension": ".py",
   "mimetype": "text/x-python",
   "name": "python",
   "nbconvert_exporter": "python",
   "pygments_lexer": "ipython3",
   "version": "3.8.8"
  }
 },
 "nbformat": 4,
 "nbformat_minor": 5
}
